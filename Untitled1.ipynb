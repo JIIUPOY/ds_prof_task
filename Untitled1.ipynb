{
 "cells": [
  {
   "cell_type": "code",
   "execution_count": 1,
   "id": "75a83351-bfa1-49af-b33c-54e090be2226",
   "metadata": {},
   "outputs": [],
   "source": [
    "import pandas as pd\n",
    "import numpy as np\n",
    "import json\n",
    "import os\n",
    "from sklearn.model_selection import GridSearchCV, train_test_split, RandomizedSearchCV\n",
    "from sklearn.ensemble import RandomForestClassifier\n",
    "import pyarrow.parquet as pa\n",
    "import tensorflow as tf\n",
    "import pyspark as ps\n",
    "from pyspark import SparkContext\n",
    "from pyspark import SparkConf\n",
    "from pyspark.sql import SparkSession\n",
    "from pyspark.sql.functions import arrays_zip, explode, col"
   ]
  },
  {
   "cell_type": "code",
   "execution_count": 3,
   "id": "fc2678c8-49da-408d-9c2f-b1aaac56d6cb",
   "metadata": {},
   "outputs": [],
   "source": [
    "from IPython.core.interactiveshell import InteractiveShell\n",
    "InteractiveShell.ast_node_interactivity = \"all\"\n",
    "os.environ[\"PYARROW_IGNORE_TIMEZONE\"] = \"1\""
   ]
  },
  {
   "cell_type": "code",
   "execution_count": 4,
   "id": "e199ec56-f821-4f78-abf3-b60f7a3ccf2c",
   "metadata": {},
   "outputs": [],
   "source": [
    "spark = SparkSession.builder.getOrCreate()\n",
    "spark.conf.set(\"spark.sql.execution.arrow.pyspark.enabled\", \"true\")"
   ]
  },
  {
   "cell_type": "code",
   "execution_count": 5,
   "id": "a7d5bb28-131f-408b-94d7-72b6ede259a8",
   "metadata": {},
   "outputs": [
    {
     "data": {
      "text/html": [
       "\n",
       "            <div>\n",
       "                <p><b>SparkSession - in-memory</b></p>\n",
       "                \n",
       "        <div>\n",
       "            <p><b>SparkContext</b></p>\n",
       "\n",
       "            <p><a href=\"http://DESKTOP-0SR5OUI:4041\">Spark UI</a></p>\n",
       "\n",
       "            <dl>\n",
       "              <dt>Version</dt>\n",
       "                <dd><code>v3.5.2</code></dd>\n",
       "              <dt>Master</dt>\n",
       "                <dd><code>local[*]</code></dd>\n",
       "              <dt>AppName</dt>\n",
       "                <dd><code>pyspark-shell</code></dd>\n",
       "            </dl>\n",
       "        </div>\n",
       "        \n",
       "            </div>\n",
       "        "
      ],
      "text/plain": [
       "<pyspark.sql.session.SparkSession at 0x21f35655ad0>"
      ]
     },
     "execution_count": 5,
     "metadata": {},
     "output_type": "execute_result"
    }
   ],
   "source": [
    "spark"
   ]
  },
  {
   "cell_type": "code",
   "execution_count": 6,
   "id": "87b0140e-47dc-4b14-870a-ae42d05609dc",
   "metadata": {},
   "outputs": [],
   "source": [
    "df = spark.read.parquet('train.parquet')"
   ]
  },
  {
   "cell_type": "code",
   "execution_count": 7,
   "id": "221db8fd-c0e4-4c17-a7b1-ca0576a6d52c",
   "metadata": {},
   "outputs": [
    {
     "name": "stdout",
     "output_type": "stream",
     "text": [
      "+-----+--------------------+--------------------+-----+\n",
      "|   id|               dates|              values|label|\n",
      "+-----+--------------------+--------------------+-----+\n",
      "|19114|[2016-01-01, 2016...|[-1.86, 0.79, 1.4...|  0.0|\n",
      "|22769|[2016-05-01, 2016...|[-1.04, -3.48, 0....|  1.0|\n",
      "|76935|[2017-03-01, 2017...|[0.28, 0.63, 0.06...|  0.0|\n",
      "|66297|[2016-01-01, 2016...|[-0.33, 0.58, 1.1...|  0.0|\n",
      "| 2191|[2016-01-01, 2016...|[1.31, 0.5, -0.54...|  0.0|\n",
      "|59504|[2016-03-01, 2016...|[0.08, 0.88, 1.46...|  0.0|\n",
      "|49554|[2016-04-01, 2016...|[1.05, -0.28, 1.0...|  0.0|\n",
      "|58344|[2016-12-01, 2017...|[-0.36, -0.45, -0...|  0.0|\n",
      "|87449|[2016-01-01, 2016...|[2.92, 4.11, 3.39...|  1.0|\n",
      "|43415|[2016-02-01, 2016...|[-0.86, -0.05, -0...|  1.0|\n",
      "|76676|[2016-01-01, 2016...|[2.24, 0.46, 1.41...|  0.0|\n",
      "| 4321|[2016-01-01, 2016...|[1.1, 1.73, 2.04,...|  0.0|\n",
      "|17921|[2016-01-01, 2016...|[1.06, 1.04, 0.62...|  0.0|\n",
      "|60176|[2016-01-01, 2016...|[1.41, -0.62, -1....|  0.0|\n",
      "|61864|[2016-01-01, 2016...|[0.24, 0.37, 0.97...|  0.0|\n",
      "|  561|[2018-04-01, 2018...|[2.06, 0.02, -0.0...|  0.0|\n",
      "|23724|[2016-01-01, 2016...|[1.41, 0.28, 1.86...|  0.0|\n",
      "| 8911|[2016-01-01, 2016...|[-0.43, -0.41, -0...|  0.0|\n",
      "|94983|[2019-11-01, 2019...|[0.92, 0.11, -0.1...|  1.0|\n",
      "|46286|[2016-01-01, 2016...|[2.59, 1.98, -0.0...|  0.0|\n",
      "+-----+--------------------+--------------------+-----+\n",
      "only showing top 20 rows\n",
      "\n"
     ]
    }
   ],
   "source": [
    "df.show()"
   ]
  },
  {
   "cell_type": "code",
   "execution_count": 8,
   "id": "279970d1-02f1-405d-aa62-e37ae16851f2",
   "metadata": {},
   "outputs": [
    {
     "data": {
      "text/plain": [
       "<bound method DataFrame.printSchema of DataFrame[id: bigint, dates: array<date>, values: array<double>, label: double]>"
      ]
     },
     "execution_count": 8,
     "metadata": {},
     "output_type": "execute_result"
    }
   ],
   "source": [
    "df.printSchema"
   ]
  },
  {
   "cell_type": "code",
   "execution_count": 9,
   "id": "36195b00-0bc0-4130-9463-16141df758ab",
   "metadata": {},
   "outputs": [
    {
     "data": {
      "text/plain": [
       "id        0.0\n",
       "dates     0.0\n",
       "values    0.0\n",
       "label     0.0\n",
       "dtype: float64"
      ]
     },
     "execution_count": 9,
     "metadata": {},
     "output_type": "execute_result"
    }
   ],
   "source": [
    "df.pandas_api().isna().mean()"
   ]
  },
  {
   "cell_type": "code",
   "execution_count": 10,
   "id": "0a376a06-37d2-4cd6-85fb-081c08676767",
   "metadata": {},
   "outputs": [],
   "source": [
    "df_zip = df.withColumn(\"zip_date_val\", arrays_zip(\"dates\", \"values\"))"
   ]
  },
  {
   "cell_type": "code",
   "execution_count": 11,
   "id": "88667962-f535-4cea-9584-9135ff309297",
   "metadata": {},
   "outputs": [],
   "source": [
    "df_exp = df_zip.withColumn(\"explod_date_val\", explode(\"zip_date_val\"))"
   ]
  },
  {
   "cell_type": "code",
   "execution_count": 25,
   "id": "4aa4a268-55a7-402a-986a-54ab59c70a6e",
   "metadata": {},
   "outputs": [],
   "source": [
    "df_new = df_exp.select(\n",
    "    col(\"id\"),\n",
    "    col(\"explod_date_val.dates\").alias(\"date\"),\n",
    "    col(\"explod_date_val.values\").alias(\"value\"),\n",
    "    col(\"label\")\n",
    ")"
   ]
  },
  {
   "cell_type": "code",
   "execution_count": 26,
   "id": "0c937485-c982-4b24-a142-48a1c69e49e3",
   "metadata": {},
   "outputs": [
    {
     "data": {
      "text/plain": [
       "<bound method DataFrame.printSchema of DataFrame[id: bigint, dates: array<date>, values: array<double>, label: double]>"
      ]
     },
     "execution_count": 26,
     "metadata": {},
     "output_type": "execute_result"
    }
   ],
   "source": [
    "df.printSchema"
   ]
  },
  {
   "cell_type": "code",
   "execution_count": 27,
   "id": "20f1e61a-2e2a-442d-aed6-933c7c089ce6",
   "metadata": {},
   "outputs": [],
   "source": [
    "df_new = df_new.toPandas()"
   ]
  },
  {
   "cell_type": "code",
   "execution_count": 28,
   "id": "ad6f9893-4d76-400e-a424-d8cab9ab8308",
   "metadata": {},
   "outputs": [
    {
     "name": "stdout",
     "output_type": "stream",
     "text": [
      "<class 'pandas.core.frame.DataFrame'>\n",
      "RangeIndex: 5155412 entries, 0 to 5155411\n",
      "Data columns (total 4 columns):\n",
      " #   Column  Dtype  \n",
      "---  ------  -----  \n",
      " 0   id      int64  \n",
      " 1   date    object \n",
      " 2   value   float64\n",
      " 3   label   float64\n",
      "dtypes: float64(2), int64(1), object(1)\n",
      "memory usage: 157.3+ MB\n"
     ]
    }
   ],
   "source": [
    "df_new.info()"
   ]
  },
  {
   "cell_type": "code",
   "execution_count": 29,
   "id": "34e58b7d-e6bf-4427-adc0-31a214e7bb66",
   "metadata": {},
   "outputs": [
    {
     "data": {
      "text/plain": [
       "id          0\n",
       "date        0\n",
       "value    4582\n",
       "label       0\n",
       "dtype: int64"
      ]
     },
     "execution_count": 29,
     "metadata": {},
     "output_type": "execute_result"
    }
   ],
   "source": [
    "df_new.isna().sum()"
   ]
  },
  {
   "cell_type": "code",
   "execution_count": 30,
   "id": "b539199a-c5e5-4739-8d95-335f20a940a8",
   "metadata": {},
   "outputs": [],
   "source": [
    "df_new = df_new.dropna()"
   ]
  },
  {
   "cell_type": "code",
   "execution_count": 31,
   "id": "6c4b2263-6f8d-44cc-94e1-e928b84c0278",
   "metadata": {},
   "outputs": [
    {
     "data": {
      "text/plain": [
       "id       0\n",
       "date     0\n",
       "value    0\n",
       "label    0\n",
       "dtype: int64"
      ]
     },
     "execution_count": 31,
     "metadata": {},
     "output_type": "execute_result"
    }
   ],
   "source": [
    "df_new.isna().sum()"
   ]
  },
  {
   "cell_type": "code",
   "execution_count": 32,
   "id": "b4873929-ba28-42c6-93b7-d05a71a711bd",
   "metadata": {},
   "outputs": [
    {
     "name": "stdout",
     "output_type": "stream",
     "text": [
      "<class 'pandas.core.frame.DataFrame'>\n",
      "Index: 5150830 entries, 0 to 5155411\n",
      "Data columns (total 4 columns):\n",
      " #   Column  Dtype  \n",
      "---  ------  -----  \n",
      " 0   id      int64  \n",
      " 1   date    object \n",
      " 2   value   float64\n",
      " 3   label   float64\n",
      "dtypes: float64(2), int64(1), object(1)\n",
      "memory usage: 196.5+ MB\n"
     ]
    }
   ],
   "source": [
    "df_new.info()"
   ]
  },
  {
   "cell_type": "code",
   "execution_count": 33,
   "id": "1322bdc0-2156-45db-b92b-f0bd8eee1a1d",
   "metadata": {},
   "outputs": [
    {
     "data": {
      "text/plain": [
       "id       0\n",
       "date     0\n",
       "value    0\n",
       "label    0\n",
       "dtype: int64"
      ]
     },
     "execution_count": 33,
     "metadata": {},
     "output_type": "execute_result"
    }
   ],
   "source": [
    "df_new.isna().sum()"
   ]
  },
  {
   "cell_type": "code",
   "execution_count": 34,
   "id": "6c883497-b234-4723-8663-09472146cdb3",
   "metadata": {},
   "outputs": [
    {
     "ename": "TypeError",
     "evalue": "float() argument must be a string or a real number, not 'datetime.date'",
     "output_type": "error",
     "traceback": [
      "\u001b[1;31m---------------------------------------------------------------------------\u001b[0m",
      "\u001b[1;31mTypeError\u001b[0m                                 Traceback (most recent call last)",
      "Cell \u001b[1;32mIn[34], line 1\u001b[0m\n\u001b[1;32m----> 1\u001b[0m df_new[\u001b[38;5;124m'\u001b[39m\u001b[38;5;124mdate\u001b[39m\u001b[38;5;124m'\u001b[39m] \u001b[38;5;241m=\u001b[39m df_new[\u001b[38;5;124m'\u001b[39m\u001b[38;5;124mdate\u001b[39m\u001b[38;5;124m'\u001b[39m]\u001b[38;5;241m.\u001b[39mvalues\u001b[38;5;241m.\u001b[39mastype(\u001b[38;5;124m\"\u001b[39m\u001b[38;5;124mfloat64\u001b[39m\u001b[38;5;124m\"\u001b[39m)\n\u001b[0;32m      2\u001b[0m df_new[\u001b[38;5;124m'\u001b[39m\u001b[38;5;124mvalue\u001b[39m\u001b[38;5;124m'\u001b[39m] \u001b[38;5;241m=\u001b[39m df_new[\u001b[38;5;124m'\u001b[39m\u001b[38;5;124mvalue\u001b[39m\u001b[38;5;124m'\u001b[39m]\u001b[38;5;241m.\u001b[39mvalues\u001b[38;5;241m.\u001b[39mastype(\u001b[38;5;124m\"\u001b[39m\u001b[38;5;124mfloat64\u001b[39m\u001b[38;5;124m\"\u001b[39m)\n",
      "\u001b[1;31mTypeError\u001b[0m: float() argument must be a string or a real number, not 'datetime.date'"
     ]
    }
   ],
   "source": [
    "df_new['date'] = df_new['date'].values.astype(\"float64\")\n",
    "df_new['value'] = df_new['value'].values.astype(\"float64\")"
   ]
  },
  {
   "cell_type": "code",
   "execution_count": 35,
   "id": "0152d39b-1dec-42cd-b348-a6b775129af3",
   "metadata": {},
   "outputs": [
    {
     "data": {
      "text/plain": [
       "12"
      ]
     },
     "execution_count": 35,
     "metadata": {},
     "output_type": "execute_result"
    }
   ],
   "source": [
    "12\n"
   ]
  },
  {
   "cell_type": "code",
   "execution_count": null,
   "id": "bd50203f-f51a-45d6-b8aa-d88b5f26f61e",
   "metadata": {},
   "outputs": [],
   "source": []
  },
  {
   "cell_type": "code",
   "execution_count": null,
   "id": "5a57cd88-2b6d-41a1-9539-f9302c9e31f5",
   "metadata": {},
   "outputs": [],
   "source": []
  }
 ],
 "metadata": {
  "kernelspec": {
   "display_name": "Python 3 (ipykernel)",
   "language": "python",
   "name": "python3"
  },
  "language_info": {
   "codemirror_mode": {
    "name": "ipython",
    "version": 3
   },
   "file_extension": ".py",
   "mimetype": "text/x-python",
   "name": "python",
   "nbconvert_exporter": "python",
   "pygments_lexer": "ipython3",
   "version": "3.11.7"
  }
 },
 "nbformat": 4,
 "nbformat_minor": 5
}
