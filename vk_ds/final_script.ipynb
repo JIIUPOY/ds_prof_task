{
 "cells": [
  {
   "cell_type": "code",
   "execution_count": 8,
   "id": "6404c8bf-20c3-43ea-a67e-4366bb12a30c",
   "metadata": {},
   "outputs": [],
   "source": [
    "import pandas as pd\n",
    "import joblib\n",
    "from importnb import Notebook\n",
    "import os"
   ]
  },
  {
   "cell_type": "code",
   "execution_count": 2,
   "id": "6216a8d5-522c-44e2-a61f-b420028b78d4",
   "metadata": {},
   "outputs": [],
   "source": [
    "%run funct_for_test.ipynb"
   ]
  },
  {
   "cell_type": "code",
   "execution_count": 3,
   "id": "52529a1e-b958-4dfd-a63b-bed2a23e1278",
   "metadata": {},
   "outputs": [],
   "source": [
    "with Notebook():\n",
    "    import funct_for_test\n",
    "test_data = funct_for_test.create_submission_data('test.parquet')"
   ]
  },
  {
   "cell_type": "code",
   "execution_count": 4,
   "id": "e8a97f75-0b93-442f-a152-52b888ffdac1",
   "metadata": {},
   "outputs": [],
   "source": [
    "cat_model = joblib.load('c_model_t')"
   ]
  },
  {
   "cell_type": "code",
   "execution_count": 5,
   "id": "c5019759-6145-41d9-9d25-8d1794ad18f9",
   "metadata": {},
   "outputs": [],
   "source": [
    "y_fin_pred = cat_model.predict_proba(test_data)[:, 1]"
   ]
  },
  {
   "cell_type": "code",
   "execution_count": 6,
   "id": "bea6300a-914e-449e-b1e0-52f5bc6f32c9",
   "metadata": {},
   "outputs": [
    {
     "data": {
      "text/html": [
       "<div>\n",
       "<style scoped>\n",
       "    .dataframe tbody tr th:only-of-type {\n",
       "        vertical-align: middle;\n",
       "    }\n",
       "\n",
       "    .dataframe tbody tr th {\n",
       "        vertical-align: top;\n",
       "    }\n",
       "\n",
       "    .dataframe thead th {\n",
       "        text-align: right;\n",
       "    }\n",
       "</style>\n",
       "<table border=\"1\" class=\"dataframe\">\n",
       "  <thead>\n",
       "    <tr style=\"text-align: right;\">\n",
       "      <th></th>\n",
       "      <th>id</th>\n",
       "      <th>score</th>\n",
       "    </tr>\n",
       "  </thead>\n",
       "  <tbody>\n",
       "    <tr>\n",
       "      <th>0</th>\n",
       "      <td>6125</td>\n",
       "      <td>0.571102</td>\n",
       "    </tr>\n",
       "    <tr>\n",
       "      <th>1</th>\n",
       "      <td>26781</td>\n",
       "      <td>0.391994</td>\n",
       "    </tr>\n",
       "    <tr>\n",
       "      <th>2</th>\n",
       "      <td>13333</td>\n",
       "      <td>0.200376</td>\n",
       "    </tr>\n",
       "    <tr>\n",
       "      <th>3</th>\n",
       "      <td>53218</td>\n",
       "      <td>0.326179</td>\n",
       "    </tr>\n",
       "    <tr>\n",
       "      <th>4</th>\n",
       "      <td>84204</td>\n",
       "      <td>0.376106</td>\n",
       "    </tr>\n",
       "  </tbody>\n",
       "</table>\n",
       "</div>"
      ],
      "text/plain": [
       "      id     score\n",
       "0   6125  0.571102\n",
       "1  26781  0.391994\n",
       "2  13333  0.200376\n",
       "3  53218  0.326179\n",
       "4  84204  0.376106"
      ]
     },
     "execution_count": 6,
     "metadata": {},
     "output_type": "execute_result"
    }
   ],
   "source": [
    "submission_df = pd.DataFrame({\n",
    "    'id': test_data['id'],\n",
    "    'score': y_fin_pred\n",
    "})\n",
    "submission_df.head()"
   ]
  },
  {
   "cell_type": "code",
   "execution_count": 9,
   "id": "41f3d1bc-fd54-4cb0-b474-afd02edfb905",
   "metadata": {},
   "outputs": [],
   "source": [
    "file_name = 'submission.csv'\n",
    "if os.path.exists(file_name):\n",
    "    os.remove(file_name)\n",
    "submission_df.to_csv(file_name, index=False)"
   ]
  }
 ],
 "metadata": {
  "kernelspec": {
   "display_name": "Python 3 (ipykernel)",
   "language": "python",
   "name": "python3"
  },
  "language_info": {
   "codemirror_mode": {
    "name": "ipython",
    "version": 3
   },
   "file_extension": ".py",
   "mimetype": "text/x-python",
   "name": "python",
   "nbconvert_exporter": "python",
   "pygments_lexer": "ipython3",
   "version": "3.12.3"
  }
 },
 "nbformat": 4,
 "nbformat_minor": 5
}
