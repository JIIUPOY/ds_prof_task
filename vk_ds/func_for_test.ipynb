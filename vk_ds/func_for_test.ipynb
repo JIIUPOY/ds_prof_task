{
 "cells": [
  {
   "cell_type": "code",
   "execution_count": 3,
   "id": "412da5a8-ce63-4dde-80a5-0d5ab800f68c",
   "metadata": {},
   "outputs": [],
   "source": [
    "def create_submission_data(test_parquet: str):\n",
    "    import pandas as pd\n",
    "    import numpy as np\n",
    "    \n",
    "    #данные столбцы взять из преобразованного до момента разделения датасета на выборки.\n",
    "    #в целях требований по скорости работы скрипта было решено сразу зашить столбцы.\n",
    "    data_cols = ['2016-02-01', '2016-03-01', '2016-06-01', '2016-07-01', '2016-08-01', '2016-11-01', '2016-12-01', \\\n",
    "                 '2017-01-01', '2017-02-01', '2017-07-01', '2017-08-01', '2018-01-01', '2018-02-01', '2018-03-01', \\\n",
    "                 '2018-07-01', '2018-08-01', '2018-12-01', '2019-01-01', '2019-06-01', '2019-07-01', '2019-08-01', \\\n",
    "                 '2019-12-01', '2020-01-01', '2020-02-01', '2020-06-01', '2020-07-01', '2020-08-01', '2020-12-01', \\\n",
    "                 '2021-01-01', '2021-02-01', '2021-03-01', '2021-06-01', '2021-07-01', '2021-08-01']  \n",
    "    test = pd.read_parquet(str(test_parquet))\n",
    "    \n",
    "    all_unique_dates = sorted(set([date for sublist in test['dates'] for date in sublist]))\n",
    "    for date in all_unique_dates:\n",
    "        test[date] = np.nan\n",
    "    for index, row in test.iterrows():\n",
    "        for date, value in zip(row['dates'], row['values']):\n",
    "            test.at[index, date] = value\n",
    "\n",
    "    test = test.drop(columns=['dates', 'values'])\n",
    "    test.columns = test.columns.astype(str)\n",
    "\n",
    "    test = test.drop(list(test.columns[70:99]), axis= 1)\n",
    "    test.fillna(test.mean(), inplace= True)\n",
    "    mtx = test.corr()\n",
    "    columns_to_keep = ['id'] + [ind for ind in mtx.columns if ind in data_cols]\n",
    "    test = test[columns_to_keep]\n",
    "\n",
    "    return test"
   ]
  }
 ],
 "metadata": {
  "kernelspec": {
   "display_name": "Python 3 (ipykernel)",
   "language": "python",
   "name": "python3"
  },
  "language_info": {
   "codemirror_mode": {
    "name": "ipython",
    "version": 3
   },
   "file_extension": ".py",
   "mimetype": "text/x-python",
   "name": "python",
   "nbconvert_exporter": "python",
   "pygments_lexer": "ipython3",
   "version": "3.12.3"
  }
 },
 "nbformat": 4,
 "nbformat_minor": 5
}
