{
 "cells": [
  {
   "cell_type": "code",
   "execution_count": null,
   "id": "75a83351-bfa1-49af-b33c-54e090be2226",
   "metadata": {},
   "outputs": [],
   "source": [
    "import pandas as pd\n",
    "import numpy as np\n",
    "import json\n",
    "import os\n",
    "from sklearn.model_selection import GridSearchCV, train_test_split, RandomizedSearchCV\n",
    "from sklearn.ensemble import RandomForestClassifier\n",
    "import pyarrow.parquet as pa\n",
    "import tensorflow as tf\n",
    "import pyspark as ps\n",
    "from pyspark import SparkContext\n",
    "from pyspark import SparkConf\n",
    "from pyspark.sql import SparkSession\n",
    "from pyspark.sql.functions import arrays_zip, explode, col"
   ]
  },
  {
   "cell_type": "code",
   "execution_count": null,
   "id": "fc2678c8-49da-408d-9c2f-b1aaac56d6cb",
   "metadata": {},
   "outputs": [],
   "source": []
  }
 ],
 "metadata": {
  "kernelspec": {
   "display_name": "Python 3 (ipykernel)",
   "language": "python",
   "name": "python3"
  },
  "language_info": {
   "name": ""
  }
 },
 "nbformat": 4,
 "nbformat_minor": 5
}
