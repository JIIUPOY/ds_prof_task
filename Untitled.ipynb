{
 "cells": [
  {
   "cell_type": "code",
   "execution_count": 328,
   "id": "80047647-0aa2-45fd-89cc-402f5d4026c8",
   "metadata": {},
   "outputs": [],
   "source": [
    "import pandas as pd\n",
    "import numpy as np\n",
    "import json\n",
    "import os\n",
    "from sklearn.model_selection import GridSearchCV, train_test_split, RandomizedSearchCV\n",
    "from sklearn.ensemble import RandomForestClassifier\n",
    "import pyarrow.parquet as pa\n",
    "import tensorflow as tf\n",
    "import pyspark as ps\n",
    "from pyspark import SparkContext\n",
    "from pyspark import SparkConf\n",
    "from pyspark.sql import SparkSession\n",
    "from pyspark.sql.functions import arrays_zip, explode, col"
   ]
  },
  {
   "cell_type": "code",
   "execution_count": 329,
   "id": "e9ec9190-4d2c-4f2b-8530-af35d0eb22b4",
   "metadata": {},
   "outputs": [],
   "source": [
    "from IPython.core.interactiveshell import InteractiveShell\n",
    "InteractiveShell.ast_node_interactivity = \"all\"\n",
    "os.environ[\"PYARROW_IGNORE_TIMEZONE\"] = \"1\""
   ]
  },
  {
   "cell_type": "code",
   "execution_count": 330,
   "id": "e778fc50-875a-4545-8398-7c0944fabc4d",
   "metadata": {},
   "outputs": [],
   "source": [
    "spark = SparkSession.builder.getOrCreate()"
   ]
  },
  {
   "cell_type": "code",
   "execution_count": 331,
   "id": "3dcca9e8-be2d-4265-8981-4d917b08e758",
   "metadata": {},
   "outputs": [],
   "source": [
    "spark.conf.set(\"spark.sql.execution.arrow.pyspark.enabled\", \"true\")"
   ]
  },
  {
   "cell_type": "code",
   "execution_count": 332,
   "id": "da9542a6-0756-47be-b42e-6119514d62da",
   "metadata": {},
   "outputs": [
    {
     "data": {
      "text/html": [
       "\n",
       "            <div>\n",
       "                <p><b>SparkSession - in-memory</b></p>\n",
       "                \n",
       "        <div>\n",
       "            <p><b>SparkContext</b></p>\n",
       "\n",
       "            <p><a href=\"http://DESKTOP-0SR5OUI:4040\">Spark UI</a></p>\n",
       "\n",
       "            <dl>\n",
       "              <dt>Version</dt>\n",
       "                <dd><code>v3.5.2</code></dd>\n",
       "              <dt>Master</dt>\n",
       "                <dd><code>local</code></dd>\n",
       "              <dt>AppName</dt>\n",
       "                <dd><code>app name</code></dd>\n",
       "            </dl>\n",
       "        </div>\n",
       "        \n",
       "            </div>\n",
       "        "
      ],
      "text/plain": [
       "<pyspark.sql.session.SparkSession at 0x26acd72b890>"
      ]
     },
     "execution_count": 332,
     "metadata": {},
     "output_type": "execute_result"
    }
   ],
   "source": [
    "spark"
   ]
  },
  {
   "cell_type": "code",
   "execution_count": 333,
   "id": "c9416185-a060-4126-af7f-7eb7b8eecec4",
   "metadata": {},
   "outputs": [],
   "source": [
    "df = spark.read.parquet('train.parquet')"
   ]
  },
  {
   "cell_type": "code",
   "execution_count": 334,
   "id": "3ff58b17-f168-4c43-83e7-24bc83c6894c",
   "metadata": {},
   "outputs": [
    {
     "name": "stdout",
     "output_type": "stream",
     "text": [
      "+-----+--------------------+--------------------+-----+\n",
      "|   id|               dates|              values|label|\n",
      "+-----+--------------------+--------------------+-----+\n",
      "|19114|[2016-01-01, 2016...|[-1.86, 0.79, 1.4...|  0.0|\n",
      "|22769|[2016-05-01, 2016...|[-1.04, -3.48, 0....|  1.0|\n",
      "|76935|[2017-03-01, 2017...|[0.28, 0.63, 0.06...|  0.0|\n",
      "|66297|[2016-01-01, 2016...|[-0.33, 0.58, 1.1...|  0.0|\n",
      "| 2191|[2016-01-01, 2016...|[1.31, 0.5, -0.54...|  0.0|\n",
      "|59504|[2016-03-01, 2016...|[0.08, 0.88, 1.46...|  0.0|\n",
      "|49554|[2016-04-01, 2016...|[1.05, -0.28, 1.0...|  0.0|\n",
      "|58344|[2016-12-01, 2017...|[-0.36, -0.45, -0...|  0.0|\n",
      "|87449|[2016-01-01, 2016...|[2.92, 4.11, 3.39...|  1.0|\n",
      "|43415|[2016-02-01, 2016...|[-0.86, -0.05, -0...|  1.0|\n",
      "|76676|[2016-01-01, 2016...|[2.24, 0.46, 1.41...|  0.0|\n",
      "| 4321|[2016-01-01, 2016...|[1.1, 1.73, 2.04,...|  0.0|\n",
      "|17921|[2016-01-01, 2016...|[1.06, 1.04, 0.62...|  0.0|\n",
      "|60176|[2016-01-01, 2016...|[1.41, -0.62, -1....|  0.0|\n",
      "|61864|[2016-01-01, 2016...|[0.24, 0.37, 0.97...|  0.0|\n",
      "|  561|[2018-04-01, 2018...|[2.06, 0.02, -0.0...|  0.0|\n",
      "|23724|[2016-01-01, 2016...|[1.41, 0.28, 1.86...|  0.0|\n",
      "| 8911|[2016-01-01, 2016...|[-0.43, -0.41, -0...|  0.0|\n",
      "|94983|[2019-11-01, 2019...|[0.92, 0.11, -0.1...|  1.0|\n",
      "|46286|[2016-01-01, 2016...|[2.59, 1.98, -0.0...|  0.0|\n",
      "+-----+--------------------+--------------------+-----+\n",
      "only showing top 20 rows\n",
      "\n"
     ]
    }
   ],
   "source": [
    "df.show()"
   ]
  },
  {
   "cell_type": "code",
   "execution_count": 335,
   "id": "36fc786d-b3db-404c-b6d2-32dfb9206096",
   "metadata": {},
   "outputs": [
    {
     "data": {
      "text/plain": [
       "<bound method DataFrame.printSchema of DataFrame[id: bigint, dates: array<date>, values: array<double>, label: double]>"
      ]
     },
     "execution_count": 335,
     "metadata": {},
     "output_type": "execute_result"
    }
   ],
   "source": [
    "df.printSchema"
   ]
  },
  {
   "cell_type": "code",
   "execution_count": 336,
   "id": "4394f2e1-eba6-4c14-9de4-4e88d81843b7",
   "metadata": {},
   "outputs": [
    {
     "data": {
      "text/plain": [
       "id        0.0\n",
       "dates     0.0\n",
       "values    0.0\n",
       "label     0.0\n",
       "dtype: float64"
      ]
     },
     "execution_count": 336,
     "metadata": {},
     "output_type": "execute_result"
    }
   ],
   "source": [
    "df.pandas_api().isna().mean()"
   ]
  },
  {
   "cell_type": "code",
   "execution_count": 337,
   "id": "08e5d1a1-5a5b-4a5b-825b-c669fb846a1e",
   "metadata": {},
   "outputs": [],
   "source": [
    "df_zip = df.withColumn(\"zip_date_val\", arrays_zip(\"dates\", \"values\"))"
   ]
  },
  {
   "cell_type": "code",
   "execution_count": 338,
   "id": "f2459288-623b-4e90-b5ee-39ca62e88965",
   "metadata": {},
   "outputs": [],
   "source": [
    "df_exp = df_zip.withColumn(\"explod_date_val\", explode(\"zip_date_val\"))"
   ]
  },
  {
   "cell_type": "code",
   "execution_count": 347,
   "id": "ca97a2c6-905d-4bc5-983a-2d1bcaac29ca",
   "metadata": {},
   "outputs": [],
   "source": [
    "df_new = df_exp.select(\n",
    "    col(\"id\"),\n",
    "    col(\"explod_date_val.dates\").alias(\"date\"),\n",
    "    col(\"explod_date_val.values\").alias(\"value\"),\n",
    "    col(\"label\")\n",
    ")"
   ]
  },
  {
   "cell_type": "code",
   "execution_count": 348,
   "id": "c18ee1e2-cf27-41da-9ca9-07cf8928327c",
   "metadata": {},
   "outputs": [
    {
     "data": {
      "text/plain": [
       "<bound method DataFrame.printSchema of DataFrame[id: bigint, date: date, value: double, label: double]>"
      ]
     },
     "execution_count": 348,
     "metadata": {},
     "output_type": "execute_result"
    }
   ],
   "source": [
    "df_new.printSchema"
   ]
  },
  {
   "cell_type": "code",
   "execution_count": 349,
   "id": "89ee4b99-525b-4188-9206-117bd3615fcf",
   "metadata": {},
   "outputs": [],
   "source": [
    "df_new = df_new.toPandas()"
   ]
  },
  {
   "cell_type": "code",
   "execution_count": 350,
   "id": "03aaed5a-351b-4251-a951-5c5b4c0f27c4",
   "metadata": {},
   "outputs": [
    {
     "name": "stdout",
     "output_type": "stream",
     "text": [
      "<class 'pandas.core.frame.DataFrame'>\n",
      "RangeIndex: 5155412 entries, 0 to 5155411\n",
      "Data columns (total 4 columns):\n",
      " #   Column  Dtype  \n",
      "---  ------  -----  \n",
      " 0   id      int64  \n",
      " 1   date    object \n",
      " 2   value   float64\n",
      " 3   label   float64\n",
      "dtypes: float64(2), int64(1), object(1)\n",
      "memory usage: 157.3+ MB\n"
     ]
    }
   ],
   "source": [
    "df_new.info()"
   ]
  },
  {
   "cell_type": "code",
   "execution_count": 351,
   "id": "74da60e7-80cf-4dd0-9b1b-e837cf180561",
   "metadata": {},
   "outputs": [
    {
     "data": {
      "text/plain": [
       "id          0\n",
       "date        0\n",
       "value    4582\n",
       "label       0\n",
       "dtype: int64"
      ]
     },
     "execution_count": 351,
     "metadata": {},
     "output_type": "execute_result"
    }
   ],
   "source": [
    "df_new.isna().sum()"
   ]
  },
  {
   "cell_type": "code",
   "execution_count": 352,
   "id": "feba45b4-783a-442b-aad8-86681344f887",
   "metadata": {},
   "outputs": [],
   "source": [
    "df_new = df_new.dropna()"
   ]
  },
  {
   "cell_type": "code",
   "execution_count": 353,
   "id": "6506fa6c-6c2b-4d06-a96a-c7c65f46a79d",
   "metadata": {},
   "outputs": [
    {
     "data": {
      "text/plain": [
       "id       0\n",
       "date     0\n",
       "value    0\n",
       "label    0\n",
       "dtype: int64"
      ]
     },
     "execution_count": 353,
     "metadata": {},
     "output_type": "execute_result"
    }
   ],
   "source": [
    "df_new.isna().sum()"
   ]
  },
  {
   "cell_type": "code",
   "execution_count": 354,
   "id": "cedbbe5b-53de-47b8-a8e6-c620fe977219",
   "metadata": {},
   "outputs": [
    {
     "name": "stdout",
     "output_type": "stream",
     "text": [
      "<class 'pandas.core.frame.DataFrame'>\n",
      "Index: 5150830 entries, 0 to 5155411\n",
      "Data columns (total 4 columns):\n",
      " #   Column  Dtype  \n",
      "---  ------  -----  \n",
      " 0   id      int64  \n",
      " 1   date    object \n",
      " 2   value   float64\n",
      " 3   label   float64\n",
      "dtypes: float64(2), int64(1), object(1)\n",
      "memory usage: 196.5+ MB\n"
     ]
    }
   ],
   "source": [
    "df_new.info()"
   ]
  },
  {
   "cell_type": "code",
   "execution_count": 397,
   "id": "1bab306b-11c7-47b7-8e0a-1be92aca7d2f",
   "metadata": {},
   "outputs": [],
   "source": [
    "df_new['date'] = df_new['date'].values.astype(\"float64\")"
   ]
  },
  {
   "cell_type": "code",
   "execution_count": 398,
   "id": "4c14087a-2223-4e21-8448-568bb79395a2",
   "metadata": {},
   "outputs": [],
   "source": [
    "df_new['value'] = df_new['value'].values.astype(\"float64\")"
   ]
  },
  {
   "cell_type": "code",
   "execution_count": 399,
   "id": "0367ea05-fa05-42c5-8c75-972d25c8bf2c",
   "metadata": {},
   "outputs": [
    {
     "name": "stdout",
     "output_type": "stream",
     "text": [
      "<class 'pandas.core.frame.DataFrame'>\n",
      "Index: 5150830 entries, 0 to 5155411\n",
      "Data columns (total 4 columns):\n",
      " #   Column  Dtype  \n",
      "---  ------  -----  \n",
      " 0   id      int64  \n",
      " 1   date    float64\n",
      " 2   value   float64\n",
      " 3   label   int64  \n",
      "dtypes: float64(2), int64(2)\n",
      "memory usage: 196.5 MB\n"
     ]
    }
   ],
   "source": [
    "df_new.info()"
   ]
  },
  {
   "cell_type": "code",
   "execution_count": 380,
   "id": "dc56b54c-fea5-4ff1-ae72-1299a1dac8a9",
   "metadata": {},
   "outputs": [],
   "source": [
    "#df_new['date'] = df_new['date'].as  , format='%Y-%m-%d')"
   ]
  },
  {
   "cell_type": "code",
   "execution_count": 356,
   "id": "1f128478-22e8-48f2-a3e4-7c79f96d1e90",
   "metadata": {},
   "outputs": [],
   "source": [
    "#df_new['value'] = pd.to_numeric(df_new['value'], errors='coerce')"
   ]
  },
  {
   "cell_type": "code",
   "execution_count": 361,
   "id": "fd18f528-2eed-4773-83d6-210cb1d6cadd",
   "metadata": {},
   "outputs": [],
   "source": [
    "# df_new['value'] = df_new['value'].astype(str)"
   ]
  },
  {
   "cell_type": "code",
   "execution_count": 366,
   "id": "1fd423f0-f4d0-4c50-a16e-454c1305ee8b",
   "metadata": {},
   "outputs": [],
   "source": [
    "# df_new['label'] = df_new['label'].astype('int64')"
   ]
  },
  {
   "cell_type": "code",
   "execution_count": 373,
   "id": "c55ac92a-a3be-493d-bbc5-c4fd2d752e8c",
   "metadata": {},
   "outputs": [],
   "source": [
    "# df_new['date'] = df_new['date'].astype(str)"
   ]
  },
  {
   "cell_type": "code",
   "execution_count": 386,
   "id": "89e4ff47-762b-44dc-b2d8-e84161664153",
   "metadata": {},
   "outputs": [],
   "source": [
    "# df_new['value'] = df_new['value'].astype(str).str.replace(' ', '')\n",
    "# df_new['value'] = df_new['value'].str.replace('$', '')\n",
    "# df_new['value'] = pd.to_numeric(df_new['value'], errors='coerce')"
   ]
  },
  {
   "cell_type": "code",
   "execution_count": 400,
   "id": "ae934c11-30b7-4ab6-bc02-861092d11905",
   "metadata": {},
   "outputs": [
    {
     "data": {
      "text/html": [
       "<div>\n",
       "<style scoped>\n",
       "    .dataframe tbody tr th:only-of-type {\n",
       "        vertical-align: middle;\n",
       "    }\n",
       "\n",
       "    .dataframe tbody tr th {\n",
       "        vertical-align: top;\n",
       "    }\n",
       "\n",
       "    .dataframe thead th {\n",
       "        text-align: right;\n",
       "    }\n",
       "</style>\n",
       "<table border=\"1\" class=\"dataframe\">\n",
       "  <thead>\n",
       "    <tr style=\"text-align: right;\">\n",
       "      <th></th>\n",
       "      <th>id</th>\n",
       "      <th>date</th>\n",
       "      <th>value</th>\n",
       "      <th>label</th>\n",
       "    </tr>\n",
       "  </thead>\n",
       "  <tbody>\n",
       "    <tr>\n",
       "      <th>0</th>\n",
       "      <td>19114</td>\n",
       "      <td>1.451606e+18</td>\n",
       "      <td>-1.86</td>\n",
       "      <td>0</td>\n",
       "    </tr>\n",
       "    <tr>\n",
       "      <th>1</th>\n",
       "      <td>19114</td>\n",
       "      <td>1.454285e+18</td>\n",
       "      <td>0.79</td>\n",
       "      <td>0</td>\n",
       "    </tr>\n",
       "    <tr>\n",
       "      <th>2</th>\n",
       "      <td>19114</td>\n",
       "      <td>1.456790e+18</td>\n",
       "      <td>1.40</td>\n",
       "      <td>0</td>\n",
       "    </tr>\n",
       "    <tr>\n",
       "      <th>3</th>\n",
       "      <td>19114</td>\n",
       "      <td>1.459469e+18</td>\n",
       "      <td>0.15</td>\n",
       "      <td>0</td>\n",
       "    </tr>\n",
       "    <tr>\n",
       "      <th>4</th>\n",
       "      <td>19114</td>\n",
       "      <td>1.462061e+18</td>\n",
       "      <td>0.00</td>\n",
       "      <td>0</td>\n",
       "    </tr>\n",
       "  </tbody>\n",
       "</table>\n",
       "</div>"
      ],
      "text/plain": [
       "      id          date  value  label\n",
       "0  19114  1.451606e+18  -1.86      0\n",
       "1  19114  1.454285e+18   0.79      0\n",
       "2  19114  1.456790e+18   1.40      0\n",
       "3  19114  1.459469e+18   0.15      0\n",
       "4  19114  1.462061e+18   0.00      0"
      ]
     },
     "execution_count": 400,
     "metadata": {},
     "output_type": "execute_result"
    }
   ],
   "source": [
    "df_new.head()"
   ]
  },
  {
   "cell_type": "code",
   "execution_count": 401,
   "id": "cc48851e-9777-4217-ab70-f91cf7644d2d",
   "metadata": {},
   "outputs": [
    {
     "name": "stdout",
     "output_type": "stream",
     "text": [
      "<class 'pandas.core.frame.DataFrame'>\n",
      "Index: 5150830 entries, 0 to 5155411\n",
      "Data columns (total 4 columns):\n",
      " #   Column  Dtype  \n",
      "---  ------  -----  \n",
      " 0   id      int64  \n",
      " 1   date    float64\n",
      " 2   value   float64\n",
      " 3   label   int64  \n",
      "dtypes: float64(2), int64(2)\n",
      "memory usage: 196.5 MB\n"
     ]
    }
   ],
   "source": [
    "df_new.info()"
   ]
  },
  {
   "cell_type": "code",
   "execution_count": 402,
   "id": "b9421a71-447b-4109-9943-6bd75d2bc242",
   "metadata": {},
   "outputs": [
    {
     "data": {
      "text/plain": [
       "(5150830, 3)"
      ]
     },
     "execution_count": 402,
     "metadata": {},
     "output_type": "execute_result"
    },
    {
     "data": {
      "text/plain": [
       "(5150830,)"
      ]
     },
     "execution_count": 402,
     "metadata": {},
     "output_type": "execute_result"
    }
   ],
   "source": [
    "x = df_new.drop(['label'], axis= 1)\n",
    "y = df_new['label']\n",
    "x.shape\n",
    "y.shape"
   ]
  },
  {
   "cell_type": "code",
   "execution_count": 407,
   "id": "a2d2409e-03f8-4bb0-a20b-3cef111ca0e7",
   "metadata": {},
   "outputs": [],
   "source": [
    "params_grid = {\n",
    "    'n_estimators' : [int(x) for x in np.linspace(start = 100, stop = 1000, num = 10)],\n",
    "    'max_depth' : [int(x) for x in np.linspace(start = 1, stop = 15, num = 15)],\n",
    "    'min_samples_split' : [int(x) for x in np.linspace(start = 2, stop = 50, num = 10)],\n",
    "    'min_samples_leaf' : [int(x) for x in np.linspace(start = 2, stop = 50, num = 10)]\n",
    "}"
   ]
  },
  {
   "cell_type": "code",
   "execution_count": 404,
   "id": "7f44023d-1d4b-49b3-bdca-94f3dd66b691",
   "metadata": {},
   "outputs": [],
   "source": [
    "x_train, x_test, y_train, y_test = train_test_split(x, y, test_size = 0.2, random_state = 12345)"
   ]
  },
  {
   "cell_type": "code",
   "execution_count": 408,
   "id": "ee98f980-15a9-4e8a-b838-aaa201bc7582",
   "metadata": {},
   "outputs": [],
   "source": [
    "dt_model = RandomForestClassifier()\n",
    "grid_search = RandomizedSearchCV(dt_model, params_grid, error_score='raise', cv= 5)"
   ]
  },
  {
   "cell_type": "code",
   "execution_count": null,
   "id": "31c920fb-0070-4ec7-bfc0-8030298cd1d1",
   "metadata": {},
   "outputs": [],
   "source": [
    "grid_search.fit(x_train, y_train)"
   ]
  },
  {
   "cell_type": "code",
   "execution_count": null,
   "id": "505487ca-dea8-447b-8218-2b83321bdc61",
   "metadata": {},
   "outputs": [],
   "source": [
    "print(12)"
   ]
  },
  {
   "cell_type": "code",
   "execution_count": null,
   "id": "77373b87-f2ee-43ce-9b9b-380b9a9cf915",
   "metadata": {},
   "outputs": [],
   "source": []
  },
  {
   "cell_type": "code",
   "execution_count": null,
   "id": "c2bd267e-fcb3-4436-b774-bec07f04d392",
   "metadata": {},
   "outputs": [],
   "source": []
  },
  {
   "cell_type": "code",
   "execution_count": null,
   "id": "f482921f-f1d5-4814-8de6-2448293fd0d5",
   "metadata": {},
   "outputs": [],
   "source": []
  },
  {
   "cell_type": "code",
   "execution_count": null,
   "id": "7e42d1ef-0933-4f25-afb6-d3238b8daae7",
   "metadata": {},
   "outputs": [],
   "source": []
  },
  {
   "cell_type": "code",
   "execution_count": 385,
   "id": "b292d5df-9a97-4a0a-93ed-a8a5f8ca90bf",
   "metadata": {},
   "outputs": [
    {
     "name": "stdout",
     "output_type": "stream",
     "text": [
      "<class 'pandas.core.frame.DataFrame'>\n",
      "Index: 5150830 entries, 0 to 5155411\n",
      "Data columns (total 4 columns):\n",
      " #   Column  Dtype         \n",
      "---  ------  -----         \n",
      " 0   id      int64         \n",
      " 1   date    datetime64[ns]\n",
      " 2   value   object        \n",
      " 3   label   int64         \n",
      "dtypes: datetime64[ns](1), int64(2), object(1)\n",
      "memory usage: 196.5+ MB\n"
     ]
    }
   ],
   "source": [
    "df_new.info()"
   ]
  },
  {
   "cell_type": "code",
   "execution_count": 313,
   "id": "ec1572f9-bc92-4b3d-bd79-22eb03a7f4d1",
   "metadata": {},
   "outputs": [],
   "source": [
    "df_new = df_new.dropna()"
   ]
  },
  {
   "cell_type": "code",
   "execution_count": 315,
   "id": "5d283a4e-1bb2-4a94-ae1d-2fb580ceac17",
   "metadata": {},
   "outputs": [
    {
     "data": {
      "text/plain": [
       "0"
      ]
     },
     "execution_count": 315,
     "metadata": {},
     "output_type": "execute_result"
    }
   ],
   "source": [
    "df_new['value'].isna().sum()"
   ]
  },
  {
   "cell_type": "code",
   "execution_count": 321,
   "id": "016f1d56-4ec4-43c9-8b65-72c48e05be5f",
   "metadata": {},
   "outputs": [
    {
     "data": {
      "text/plain": [
       "0"
      ]
     },
     "execution_count": 321,
     "metadata": {},
     "output_type": "execute_result"
    }
   ],
   "source": [
    "df_new['label'].isna().sum()"
   ]
  },
  {
   "cell_type": "code",
   "execution_count": null,
   "id": "f03c810c-b264-46ec-b880-756e36bf424a",
   "metadata": {},
   "outputs": [],
   "source": []
  },
  {
   "cell_type": "code",
   "execution_count": null,
   "id": "a2ce63cb-992e-4e83-b7f8-8577b836357d",
   "metadata": {},
   "outputs": [],
   "source": []
  },
  {
   "cell_type": "code",
   "execution_count": 76,
   "id": "ccae7c7b-9060-47c9-9f66-0503d98b799b",
   "metadata": {},
   "outputs": [],
   "source": [
    "dt = pd.read_parquet('train.parquet')\n",
    "# dt['label'].unique()\n",
    "# dt['label'] = dt['label'].apply(int)\n",
    "# dt['values'] = dt['values'].apply(eval)\n",
    "dt['values'] = dt['values'].apply(np.array)\n",
    "dt['values'] = dt['values'].apply(lambda x: ','.join(map(str, x)))\n",
    "dt['values'] = dt['values'].apply(lambda x: list(map(float, x.split(','))))\n",
    "# dt['dates'] = dt['dates'].apply(np.array)\n",
    "# dt['values'][0]"
   ]
  },
  {
   "cell_type": "code",
   "execution_count": null,
   "id": "1d02ac04-bf16-453b-94df-294ddb306631",
   "metadata": {},
   "outputs": [],
   "source": []
  },
  {
   "cell_type": "code",
   "execution_count": null,
   "id": "9aa4e216-1cc9-42da-aa00-75148d5cf9d6",
   "metadata": {},
   "outputs": [],
   "source": []
  },
  {
   "cell_type": "code",
   "execution_count": null,
   "id": "e08d3d19-ebf0-4e22-9593-e41a492cc11f",
   "metadata": {},
   "outputs": [],
   "source": []
  },
  {
   "cell_type": "code",
   "execution_count": null,
   "id": "226f615d-c7b9-4921-bc64-d780a0210b2a",
   "metadata": {},
   "outputs": [],
   "source": []
  },
  {
   "cell_type": "code",
   "execution_count": 155,
   "id": "cbe2a042-a66c-449e-8427-4bb34d4538fb",
   "metadata": {},
   "outputs": [],
   "source": [
    "dt_model = RandomForestClassifier()\n",
    "grid_search = GridSearchCV(dt_model, params_grid, error_score='raise', cv= 5)\n",
    "# grid_search.fit(x_train, y_train)"
   ]
  },
  {
   "cell_type": "code",
   "execution_count": 156,
   "id": "1317a32b-0fde-4dea-8479-3f6130a98e52",
   "metadata": {},
   "outputs": [
    {
     "data": {
      "text/html": [
       "<style>#sk-container-id-1 {color: black;background-color: white;}#sk-container-id-1 pre{padding: 0;}#sk-container-id-1 div.sk-toggleable {background-color: white;}#sk-container-id-1 label.sk-toggleable__label {cursor: pointer;display: block;width: 100%;margin-bottom: 0;padding: 0.3em;box-sizing: border-box;text-align: center;}#sk-container-id-1 label.sk-toggleable__label-arrow:before {content: \"▸\";float: left;margin-right: 0.25em;color: #696969;}#sk-container-id-1 label.sk-toggleable__label-arrow:hover:before {color: black;}#sk-container-id-1 div.sk-estimator:hover label.sk-toggleable__label-arrow:before {color: black;}#sk-container-id-1 div.sk-toggleable__content {max-height: 0;max-width: 0;overflow: hidden;text-align: left;background-color: #f0f8ff;}#sk-container-id-1 div.sk-toggleable__content pre {margin: 0.2em;color: black;border-radius: 0.25em;background-color: #f0f8ff;}#sk-container-id-1 input.sk-toggleable__control:checked~div.sk-toggleable__content {max-height: 200px;max-width: 100%;overflow: auto;}#sk-container-id-1 input.sk-toggleable__control:checked~label.sk-toggleable__label-arrow:before {content: \"▾\";}#sk-container-id-1 div.sk-estimator input.sk-toggleable__control:checked~label.sk-toggleable__label {background-color: #d4ebff;}#sk-container-id-1 div.sk-label input.sk-toggleable__control:checked~label.sk-toggleable__label {background-color: #d4ebff;}#sk-container-id-1 input.sk-hidden--visually {border: 0;clip: rect(1px 1px 1px 1px);clip: rect(1px, 1px, 1px, 1px);height: 1px;margin: -1px;overflow: hidden;padding: 0;position: absolute;width: 1px;}#sk-container-id-1 div.sk-estimator {font-family: monospace;background-color: #f0f8ff;border: 1px dotted black;border-radius: 0.25em;box-sizing: border-box;margin-bottom: 0.5em;}#sk-container-id-1 div.sk-estimator:hover {background-color: #d4ebff;}#sk-container-id-1 div.sk-parallel-item::after {content: \"\";width: 100%;border-bottom: 1px solid gray;flex-grow: 1;}#sk-container-id-1 div.sk-label:hover label.sk-toggleable__label {background-color: #d4ebff;}#sk-container-id-1 div.sk-serial::before {content: \"\";position: absolute;border-left: 1px solid gray;box-sizing: border-box;top: 0;bottom: 0;left: 50%;z-index: 0;}#sk-container-id-1 div.sk-serial {display: flex;flex-direction: column;align-items: center;background-color: white;padding-right: 0.2em;padding-left: 0.2em;position: relative;}#sk-container-id-1 div.sk-item {position: relative;z-index: 1;}#sk-container-id-1 div.sk-parallel {display: flex;align-items: stretch;justify-content: center;background-color: white;position: relative;}#sk-container-id-1 div.sk-item::before, #sk-container-id-1 div.sk-parallel-item::before {content: \"\";position: absolute;border-left: 1px solid gray;box-sizing: border-box;top: 0;bottom: 0;left: 50%;z-index: -1;}#sk-container-id-1 div.sk-parallel-item {display: flex;flex-direction: column;z-index: 1;position: relative;background-color: white;}#sk-container-id-1 div.sk-parallel-item:first-child::after {align-self: flex-end;width: 50%;}#sk-container-id-1 div.sk-parallel-item:last-child::after {align-self: flex-start;width: 50%;}#sk-container-id-1 div.sk-parallel-item:only-child::after {width: 0;}#sk-container-id-1 div.sk-dashed-wrapped {border: 1px dashed gray;margin: 0 0.4em 0.5em 0.4em;box-sizing: border-box;padding-bottom: 0.4em;background-color: white;}#sk-container-id-1 div.sk-label label {font-family: monospace;font-weight: bold;display: inline-block;line-height: 1.2em;}#sk-container-id-1 div.sk-label-container {text-align: center;}#sk-container-id-1 div.sk-container {/* jupyter's `normalize.less` sets `[hidden] { display: none; }` but bootstrap.min.css set `[hidden] { display: none !important; }` so we also need the `!important` here to be able to override the default hidden behavior on the sphinx rendered scikit-learn.org. See: https://github.com/scikit-learn/scikit-learn/issues/21755 */display: inline-block !important;position: relative;}#sk-container-id-1 div.sk-text-repr-fallback {display: none;}</style><div id=\"sk-container-id-1\" class=\"sk-top-container\"><div class=\"sk-text-repr-fallback\"><pre>RandomizedSearchCV(cv=5, error_score=&#x27;raise&#x27;,\n",
       "                   estimator=RandomForestClassifier(),\n",
       "                   param_distributions={&#x27;max_depth&#x27;: [5, 7, 10],\n",
       "                                        &#x27;min_samples_leaf&#x27;: [1, 3, 5],\n",
       "                                        &#x27;n_estimators&#x27;: [50, 60, 70]})</pre><b>In a Jupyter environment, please rerun this cell to show the HTML representation or trust the notebook. <br />On GitHub, the HTML representation is unable to render, please try loading this page with nbviewer.org.</b></div><div class=\"sk-container\" hidden><div class=\"sk-item sk-dashed-wrapped\"><div class=\"sk-label-container\"><div class=\"sk-label sk-toggleable\"><input class=\"sk-toggleable__control sk-hidden--visually\" id=\"sk-estimator-id-1\" type=\"checkbox\" ><label for=\"sk-estimator-id-1\" class=\"sk-toggleable__label sk-toggleable__label-arrow\">RandomizedSearchCV</label><div class=\"sk-toggleable__content\"><pre>RandomizedSearchCV(cv=5, error_score=&#x27;raise&#x27;,\n",
       "                   estimator=RandomForestClassifier(),\n",
       "                   param_distributions={&#x27;max_depth&#x27;: [5, 7, 10],\n",
       "                                        &#x27;min_samples_leaf&#x27;: [1, 3, 5],\n",
       "                                        &#x27;n_estimators&#x27;: [50, 60, 70]})</pre></div></div></div><div class=\"sk-parallel\"><div class=\"sk-parallel-item\"><div class=\"sk-item\"><div class=\"sk-label-container\"><div class=\"sk-label sk-toggleable\"><input class=\"sk-toggleable__control sk-hidden--visually\" id=\"sk-estimator-id-2\" type=\"checkbox\" ><label for=\"sk-estimator-id-2\" class=\"sk-toggleable__label sk-toggleable__label-arrow\">estimator: RandomForestClassifier</label><div class=\"sk-toggleable__content\"><pre>RandomForestClassifier()</pre></div></div></div><div class=\"sk-serial\"><div class=\"sk-item\"><div class=\"sk-estimator sk-toggleable\"><input class=\"sk-toggleable__control sk-hidden--visually\" id=\"sk-estimator-id-3\" type=\"checkbox\" ><label for=\"sk-estimator-id-3\" class=\"sk-toggleable__label sk-toggleable__label-arrow\">RandomForestClassifier</label><div class=\"sk-toggleable__content\"><pre>RandomForestClassifier()</pre></div></div></div></div></div></div></div></div></div></div>"
      ],
      "text/plain": [
       "RandomizedSearchCV(cv=5, error_score='raise',\n",
       "                   estimator=RandomForestClassifier(),\n",
       "                   param_distributions={'max_depth': [5, 7, 10],\n",
       "                                        'min_samples_leaf': [1, 3, 5],\n",
       "                                        'n_estimators': [50, 60, 70]})"
      ]
     },
     "execution_count": 156,
     "metadata": {},
     "output_type": "execute_result"
    }
   ],
   "source": [
    "grid_search.fit(x_train, y_train)"
   ]
  },
  {
   "cell_type": "code",
   "execution_count": 157,
   "id": "963040b3-d3c2-49da-b7a2-d439431a4400",
   "metadata": {},
   "outputs": [
    {
     "data": {
      "text/plain": [
       "{'n_estimators': 70, 'min_samples_leaf': 1, 'max_depth': 10}"
      ]
     },
     "execution_count": 157,
     "metadata": {},
     "output_type": "execute_result"
    }
   ],
   "source": [
    "grid_search.best_params_"
   ]
  },
  {
   "cell_type": "code",
   "execution_count": 29,
   "id": "e97fa025-023d-4327-987a-1d085b1d79c5",
   "metadata": {},
   "outputs": [
    {
     "name": "stdout",
     "output_type": "stream",
     "text": [
      "<class 'pandas.core.frame.DataFrame'>\n",
      "RangeIndex: 80000 entries, 0 to 79999\n",
      "Data columns (total 4 columns):\n",
      " #   Column  Non-Null Count  Dtype  \n",
      "---  ------  --------------  -----  \n",
      " 0   id      80000 non-null  int64  \n",
      " 1   dates   80000 non-null  object \n",
      " 2   values  80000 non-null  object \n",
      " 3   label   80000 non-null  float64\n",
      "dtypes: float64(1), int64(1), object(2)\n",
      "memory usage: 2.4+ MB\n"
     ]
    }
   ],
   "source": [
    "dt.info()"
   ]
  },
  {
   "cell_type": "code",
   "execution_count": 16,
   "id": "31b000c3-73fc-4e6c-9f80-200817bc535a",
   "metadata": {},
   "outputs": [
    {
     "data": {
      "text/plain": [
       "array([datetime.date(2016, 1, 1), datetime.date(2016, 2, 1),\n",
       "       datetime.date(2016, 3, 1), datetime.date(2016, 4, 1),\n",
       "       datetime.date(2016, 5, 1), datetime.date(2016, 6, 1),\n",
       "       datetime.date(2016, 7, 1), datetime.date(2016, 8, 1),\n",
       "       datetime.date(2016, 9, 1), datetime.date(2016, 10, 1),\n",
       "       datetime.date(2016, 11, 1), datetime.date(2016, 12, 1),\n",
       "       datetime.date(2017, 1, 1), datetime.date(2017, 2, 1),\n",
       "       datetime.date(2017, 3, 1), datetime.date(2017, 4, 1),\n",
       "       datetime.date(2017, 5, 1), datetime.date(2017, 6, 1),\n",
       "       datetime.date(2017, 7, 1), datetime.date(2017, 8, 1),\n",
       "       datetime.date(2017, 9, 1), datetime.date(2017, 10, 1),\n",
       "       datetime.date(2017, 11, 1), datetime.date(2017, 12, 1),\n",
       "       datetime.date(2018, 1, 1), datetime.date(2018, 2, 1),\n",
       "       datetime.date(2018, 3, 1), datetime.date(2018, 4, 1),\n",
       "       datetime.date(2018, 5, 1), datetime.date(2018, 6, 1),\n",
       "       datetime.date(2018, 7, 1), datetime.date(2018, 8, 1),\n",
       "       datetime.date(2018, 9, 1), datetime.date(2018, 10, 1),\n",
       "       datetime.date(2018, 11, 1), datetime.date(2018, 12, 1),\n",
       "       datetime.date(2019, 1, 1), datetime.date(2019, 2, 1),\n",
       "       datetime.date(2019, 3, 1), datetime.date(2019, 4, 1),\n",
       "       datetime.date(2019, 5, 1), datetime.date(2019, 6, 1),\n",
       "       datetime.date(2019, 7, 1), datetime.date(2019, 8, 1),\n",
       "       datetime.date(2019, 9, 1), datetime.date(2019, 10, 1),\n",
       "       datetime.date(2019, 11, 1), datetime.date(2019, 12, 1),\n",
       "       datetime.date(2020, 1, 1), datetime.date(2020, 2, 1),\n",
       "       datetime.date(2020, 3, 1), datetime.date(2020, 4, 1),\n",
       "       datetime.date(2020, 5, 1), datetime.date(2020, 6, 1),\n",
       "       datetime.date(2020, 7, 1), datetime.date(2020, 8, 1),\n",
       "       datetime.date(2020, 9, 1)], dtype=object)"
      ]
     },
     "execution_count": 16,
     "metadata": {},
     "output_type": "execute_result"
    }
   ],
   "source": [
    "dt['dates'][0]"
   ]
  },
  {
   "cell_type": "code",
   "execution_count": 99,
   "id": "8e036321-476b-49f2-88de-454043e47f7c",
   "metadata": {},
   "outputs": [
    {
     "data": {
      "text/html": [
       "<div>\n",
       "<style scoped>\n",
       "    .dataframe tbody tr th:only-of-type {\n",
       "        vertical-align: middle;\n",
       "    }\n",
       "\n",
       "    .dataframe tbody tr th {\n",
       "        vertical-align: top;\n",
       "    }\n",
       "\n",
       "    .dataframe thead th {\n",
       "        text-align: right;\n",
       "    }\n",
       "</style>\n",
       "<table border=\"1\" class=\"dataframe\">\n",
       "  <thead>\n",
       "    <tr style=\"text-align: right;\">\n",
       "      <th></th>\n",
       "      <th>id</th>\n",
       "      <th>score</th>\n",
       "    </tr>\n",
       "  </thead>\n",
       "  <tbody>\n",
       "    <tr>\n",
       "      <th>0</th>\n",
       "      <td>6125.0</td>\n",
       "      <td>0.757097</td>\n",
       "    </tr>\n",
       "    <tr>\n",
       "      <th>1</th>\n",
       "      <td>26781.0</td>\n",
       "      <td>0.346173</td>\n",
       "    </tr>\n",
       "    <tr>\n",
       "      <th>2</th>\n",
       "      <td>13333.0</td>\n",
       "      <td>0.431305</td>\n",
       "    </tr>\n",
       "    <tr>\n",
       "      <th>3</th>\n",
       "      <td>53218.0</td>\n",
       "      <td>0.847472</td>\n",
       "    </tr>\n",
       "    <tr>\n",
       "      <th>4</th>\n",
       "      <td>84204.0</td>\n",
       "      <td>0.065298</td>\n",
       "    </tr>\n",
       "    <tr>\n",
       "      <th>...</th>\n",
       "      <td>...</td>\n",
       "      <td>...</td>\n",
       "    </tr>\n",
       "    <tr>\n",
       "      <th>19996</th>\n",
       "      <td>5891.0</td>\n",
       "      <td>0.995766</td>\n",
       "    </tr>\n",
       "    <tr>\n",
       "      <th>19997</th>\n",
       "      <td>29091.0</td>\n",
       "      <td>0.629173</td>\n",
       "    </tr>\n",
       "    <tr>\n",
       "      <th>19998</th>\n",
       "      <td>85877.0</td>\n",
       "      <td>0.477870</td>\n",
       "    </tr>\n",
       "    <tr>\n",
       "      <th>19999</th>\n",
       "      <td>73528.0</td>\n",
       "      <td>0.477469</td>\n",
       "    </tr>\n",
       "    <tr>\n",
       "      <th>20000</th>\n",
       "      <td>NaN</td>\n",
       "      <td>NaN</td>\n",
       "    </tr>\n",
       "  </tbody>\n",
       "</table>\n",
       "<p>20001 rows × 2 columns</p>\n",
       "</div>"
      ],
      "text/plain": [
       "            id     score\n",
       "0       6125.0  0.757097\n",
       "1      26781.0  0.346173\n",
       "2      13333.0  0.431305\n",
       "3      53218.0  0.847472\n",
       "4      84204.0  0.065298\n",
       "...        ...       ...\n",
       "19996   5891.0  0.995766\n",
       "19997  29091.0  0.629173\n",
       "19998  85877.0  0.477870\n",
       "19999  73528.0  0.477469\n",
       "20000      NaN       NaN\n",
       "\n",
       "[20001 rows x 2 columns]"
      ]
     },
     "execution_count": 99,
     "metadata": {},
     "output_type": "execute_result"
    }
   ],
   "source": [
    "dat = pd.read_csv('sample_submission.csv')\n",
    "dat"
   ]
  },
  {
   "cell_type": "code",
   "execution_count": 292,
   "id": "3700a251-aa69-4a4a-a6b1-758d0cc52946",
   "metadata": {},
   "outputs": [
    {
     "name": "stdout",
     "output_type": "stream",
     "text": [
      "<class 'pandas.core.frame.DataFrame'>\n",
      "RangeIndex: 80000 entries, 0 to 79999\n",
      "Data columns (total 4 columns):\n",
      " #   Column  Non-Null Count  Dtype  \n",
      "---  ------  --------------  -----  \n",
      " 0   id      80000 non-null  int64  \n",
      " 1   dates   80000 non-null  object \n",
      " 2   values  80000 non-null  object \n",
      " 3   label   80000 non-null  float64\n",
      "dtypes: float64(1), int64(1), object(2)\n",
      "memory usage: 2.4+ MB\n"
     ]
    }
   ],
   "source": [
    "df = pd.read_parquet('train.parquet')\n",
    "df.info()"
   ]
  },
  {
   "cell_type": "code",
   "execution_count": 135,
   "id": "1948ee32-3b9f-46f0-a7a2-f82f4405151b",
   "metadata": {},
   "outputs": [],
   "source": [
    "all_unique_dates = sorted(set([date for sublist in df['dates'] for date in sublist]))\n",
    "for date in all_unique_dates:\n",
    "    df[date] = np.nan  # Инициализация столбцов с NaN\n",
    "for index, row in df.iterrows():\n",
    "    for date, value in zip(row['dates'], row['values']):\n",
    "        df.at[index, date] = value\n"
   ]
  },
  {
   "cell_type": "code",
   "execution_count": 138,
   "id": "d277dbd9-2398-41f4-9906-f8d7db4d2354",
   "metadata": {},
   "outputs": [],
   "source": [
    "df = df.drop(columns=['dates', 'values'])"
   ]
  },
  {
   "cell_type": "code",
   "execution_count": 143,
   "id": "6a774a1f-1ca6-4604-b6a2-88aebac303eb",
   "metadata": {},
   "outputs": [],
   "source": [
    "df.columns = df.columns.astype(str)"
   ]
  },
  {
   "cell_type": "code",
   "execution_count": 149,
   "id": "66ae9479-a360-47f3-9405-7f28cdeeeb2d",
   "metadata": {},
   "outputs": [],
   "source": [
    "df.fillna(df.mean(), inplace= True)"
   ]
  }
 ],
 "metadata": {
  "kernelspec": {
   "display_name": "Python 3 (ipykernel)",
   "language": "python",
   "name": "python3"
  },
  "language_info": {
   "codemirror_mode": {
    "name": "ipython",
    "version": 3
   },
   "file_extension": ".py",
   "mimetype": "text/x-python",
   "name": "python",
   "nbconvert_exporter": "python",
   "pygments_lexer": "ipython3",
   "version": "3.11.7"
  }
 },
 "nbformat": 4,
 "nbformat_minor": 5
}
